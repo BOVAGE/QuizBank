{
 "cells": [
  {
   "cell_type": "code",
   "execution_count": 3,
   "id": "1450b81a",
   "metadata": {},
   "outputs": [],
   "source": [
    "import requests\n",
    "from bs4 import BeautifulSoup\n",
    "import re\n",
    "import json\n",
    "import pprint"
   ]
  },
  {
   "cell_type": "code",
   "execution_count": 4,
   "id": "97c891ba",
   "metadata": {},
   "outputs": [],
   "source": [
    "r = requests.get('https://www.sanfoundry.com/1000-microbiology-questions-answers/')\n",
    "c = r.content"
   ]
  },
  {
   "cell_type": "code",
   "execution_count": null,
   "id": "fe2d5687",
   "metadata": {},
   "outputs": [],
   "source": [
    "soup = BeautifulSoup(c, \"html5lib\")\n",
    "ec = soup.find(\"div\", class_=\"entry-content\")\n",
    "ads = ec.find_all(\"div\", id=re.compile(\"^sf-ads\")) #gather all ads\n",
    "vans = ec.find_all(\"span\", class_=\"collapseomatic\") #gather all collapse spans - view answer button\n",
    "brs = ec.find_all(\"br\") #gather all br tags\n",
    "for ad in ads:\n",
    "    ad.decompose() #removes all ads\n",
    "for van in vans:\n",
    "    van.decompose() #removes all collapse spans - view answer button\n",
    "for br in brs:\n",
    "    br.decompose() #removes all br tags\n",
    "# print(ec.prettify())\n",
    "ps = ec.find_all('p')[1:]\n",
    "# print(ps)\n",
    "questions = []\n",
    "dict_ans_idx = {\n",
    "            'a': 1,\n",
    "            'b': 2,\n",
    "            'c': 3,\n",
    "            'd': 4\n",
    "        } #map letter numbering of option to its index in content\n",
    "for p in ps:\n",
    "    try:\n",
    "        contents = p.contents\n",
    "#         print(contents)\n",
    "#         print(len(contents))\n",
    "        answer = p.find_next_sibling(\"div\", class_=\"collapseomatic_content\")\n",
    "#         print(answer.contents)\n",
    "        ans, exp = answer.contents[:2]\n",
    "#         print(ans, exp)\n",
    "        ans_let = ans.split(':')[1].strip().lower()\n",
    "#         print(ans_let)\n",
    "    #         print('?????', \"==========\")\n",
    "#         print(dict_ans_idx[ans_let], \".......\")\n",
    "        question = contents[0].split('.')[1].lstrip()\n",
    "#         print(question)\n",
    "#         print(len(question))\n",
    "        options = contents[1:]\n",
    "        options.pop() #remove the last newline char in the list\n",
    "#         print(options)\n",
    "        correct_answer = options.pop(dict_ans_idx[ans_let]-1) # remove correct answer\n",
    "#         print(correct_answer)\n",
    "        correct_answer = correct_answer.split(')',1)[1].lstrip() \n",
    "#         print(correct_answer)\n",
    "        # make use of maxsplit argument just in case there isanother useful ')'\n",
    "        incorrect_answers = [option.split(')', 1)[1].lstrip() for option in options if str(option)]\n",
    "#         print(type(incorrect_answers))\n",
    "        explanation = exp.replace('Explanation:', '').strip()\n",
    "    except:\n",
    "#         print(\"Invalid format\")\n",
    "        pass\n",
    "    else:\n",
    "        quiz = {\n",
    "            \"question\": question,\n",
    "            \"incorrect answers\": incorrect_answers,\n",
    "            \"correct_answer\": correct_answer,\n",
    "            \"explanation\": explanation\n",
    "        }\n",
    "        questions.append(quiz)\n",
    "#     print(answer.contents)\n",
    "#         print(ans, exp)\n",
    "#     print(type(answer.contents))\n",
    "#     print(p.prettify())\n",
    "#     print(p.contents)\n",
    "#     print(len(p.contents))\n",
    "pprint.pprint(questions)\n",
    "print(len(questions))"
   ]
  },
  {
   "cell_type": "code",
   "execution_count": 7,
   "id": "8cd22751",
   "metadata": {},
   "outputs": [],
   "source": [
    "with open('data/microbiology/basic.json', 'w') as file:\n",
    "    json.dump(questions, file, ensure_ascii=True, indent=4)"
   ]
  },
  {
   "cell_type": "code",
   "execution_count": null,
   "id": "a987b0e9",
   "metadata": {},
   "outputs": [],
   "source": []
  }
 ],
 "metadata": {
  "kernelspec": {
   "display_name": "Python 3 (ipykernel)",
   "language": "python",
   "name": "python3"
  },
  "language_info": {
   "codemirror_mode": {
    "name": "ipython",
    "version": 3
   },
   "file_extension": ".py",
   "mimetype": "text/x-python",
   "name": "python",
   "nbconvert_exporter": "python",
   "pygments_lexer": "ipython3",
   "version": "3.9.5"
  }
 },
 "nbformat": 4,
 "nbformat_minor": 5
}
